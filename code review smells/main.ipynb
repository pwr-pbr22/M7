{
 "cells": [
  {
   "cell_type": "markdown",
   "source": [
    "# Inicjalizacja"
   ],
   "metadata": {
    "collapsed": false,
    "pycharm": {
     "name": "#%% md\n"
    }
   }
  },
  {
   "cell_type": "code",
   "execution_count": 1,
   "outputs": [],
   "source": [
    "%matplotlib inline\n",
    "\n",
    "from evaluator import evaluate, calc_impact, create_functions_in_db\n",
    "from definitions import Repository\n",
    "import db\n",
    "import smells\n",
    "import metrics\n",
    "import matplotlib.pyplot as plt\n",
    "import numpy as np\n",
    "\n",
    "#plots size in inches\n",
    "plt.rcParams[\"figure.figsize\"] = (10,5)"
   ],
   "metadata": {
    "collapsed": false,
    "pycharm": {
     "name": "#%%\n"
    }
   }
  },
  {
   "cell_type": "code",
   "execution_count": 2,
   "outputs": [],
   "source": [
    "# connect with db\n",
    "db.prepare(\"postgresql://\"+(input(\"db username [postgres]\") or \"postgres\")+\":\"+input(\"db password\")+\"@\"+(input(\"db host [localhost]\") or \"localhost\")+\":\"+(input(\"db port [5432]\") or \"5432\")+\"/\"+input(\"db name\"))\n",
    "dbsession = db.get_session()\n",
    "create_functions_in_db(dbsession)"
   ],
   "metadata": {
    "collapsed": false,
    "pycharm": {
     "name": "#%%\n"
    }
   }
  },
  {
   "cell_type": "markdown",
   "source": [
    "# Ewaluacja"
   ],
   "metadata": {
    "collapsed": false,
    "pycharm": {
     "name": "#%% md\n"
    }
   }
  },
  {
   "cell_type": "code",
   "execution_count": 3,
   "outputs": [],
   "source": [
    "# select repository\n",
    "repo = input(\"repository\")\n",
    "\n",
    "if dbsession.query(Repository).filter(Repository.full_name == repo).first() is None:\n",
    "    raise LookupError(\"Repository does not exist\")"
   ],
   "metadata": {
    "collapsed": false,
    "pycharm": {
     "name": "#%%\n"
    }
   }
  },
  {
   "cell_type": "markdown",
   "source": [
    "## Udział smelly prs wśród badanych prs (reprodukcja)"
   ],
   "metadata": {
    "collapsed": false,
    "pycharm": {
     "name": "#%% md\n"
    }
   }
  },
  {
   "cell_type": "code",
   "execution_count": 4,
   "outputs": [],
   "source": [
    "# evaluate for smells\n",
    "smells_evaluations = [\n",
    "    evaluate(repo, smells.lack_of_review),\n",
    "    evaluate(repo, smells.missing_description),\n",
    "    evaluate(repo, smells.large_changesets),\n",
    "    evaluate(repo, smells.sleeping_reviews),\n",
    "    evaluate(repo, smells.review_buddies),\n",
    "    evaluate(repo, smells.ping_pong),\n",
    "    evaluate(repo, smells.union,\n",
    "         [smells.lack_of_review,\n",
    "          smells.missing_description,\n",
    "          smells.large_changesets,\n",
    "          smells.sleeping_reviews,\n",
    "          smells.review_buddies,\n",
    "          smells.ping_pong]),\n",
    "    evaluate(repo, smells.intersection,\n",
    "         [smells.lack_of_review,\n",
    "          smells.missing_description,\n",
    "          smells.large_changesets,\n",
    "          smells.sleeping_reviews,\n",
    "          smells.review_buddies,\n",
    "          smells.ping_pong])\n",
    "]"
   ],
   "metadata": {
    "collapsed": false,
    "pycharm": {
     "name": "#%%\n"
    }
   }
  },
  {
   "cell_type": "code",
   "execution_count": null,
   "outputs": [],
   "source": [
    "# display results as a text\n",
    "for evaluation in smells_evaluations:\n",
    "    print(evaluation)"
   ],
   "metadata": {
    "collapsed": false,
    "pycharm": {
     "name": "#%%\n",
     "is_executing": true
    }
   }
  },
  {
   "cell_type": "code",
   "execution_count": null,
   "outputs": [],
   "source": [
    "# display results as a plot\n",
    "fig = plt.figure()\n",
    "ax = fig.add_axes([0,0,1,1])\n",
    "xs = list(map(lambda e: e.evaluator_name.split(\"\\n\")[0], smells_evaluations))\n",
    "ys = list(map(lambda e: e.percentage*100, smells_evaluations))\n",
    "ax.barh(xs, 100, color=\"forestgreen\", label=\"non-smelly prs\")\n",
    "ax.barh(xs, ys, color=\"red\", label=\"smelly prs\")\n",
    "for i, v in enumerate(ys):\n",
    "    ax.text(101, i + 0.1, f\"{int(v)}%\", color=\"red\")\n",
    "    ax.text(105, i + 0.1, f\"{100-int(v)}%\", color=\"green\")\n",
    "ax.invert_yaxis()\n",
    "plt.legend(loc=\"upper center\", bbox_to_anchor=(0.5, -0.1))\n",
    "plt.title(f\"Percentage of smelly and non-smelly prs in {repo}\")\n",
    "plt.margins(x=0.1)\n",
    "plt.show()"
   ],
   "metadata": {
    "collapsed": false,
    "pycharm": {
     "name": "#%%\n",
     "is_executing": true
    }
   }
  },
  {
   "cell_type": "markdown",
   "source": [
    "## Wpływ smelli na prawdopodobieństwo wprowadzenia błędu"
   ],
   "metadata": {
    "collapsed": false,
    "pycharm": {
     "name": "#%% md\n"
    }
   }
  },
  {
   "cell_type": "code",
   "execution_count": 7,
   "outputs": [],
   "source": [
    "# evaluate for smells impact\n",
    "impact_evaluations = list(map(lambda pair: (pair[0], calc_impact(session = dbsession,\n",
    "                                                                 repo = dbsession.query(Repository).filter(Repository.full_name == repo).first(),\n",
    "                                                                 evaluator = pair[1],\n",
    "                                                                 evaluator_args=None)), [\n",
    "    (\"Lack of code review\", smells.lack_of_review),\n",
    "    (\"Missing PR description\", smells.missing_description),\n",
    "    (\"Large changeset\", smells.large_changesets),\n",
    "    (\"Sleeping reviews\", smells.sleeping_reviews),\n",
    "    (\"Review Buddies\", smells.review_buddies),\n",
    "    (\"Ping-pong reviews\", smells.ping_pong)\n",
    "]))"
   ],
   "metadata": {
    "collapsed": false,
    "pycharm": {
     "name": "#%%\n"
    }
   }
  },
  {
   "cell_type": "code",
   "execution_count": null,
   "outputs": [],
   "source": [
    "# display results as text\n",
    "print(\n",
    "    f\"Percentage of pulls where at least one file was changed next by bug solving PR:\")\n",
    "print(f\"{''.ljust(30)}OK    \\t SMELLY\\t IMPACT\")\n",
    "\n",
    "for (name, res) in impact_evaluations:\n",
    "    print(f\"{name.ljust(30)}{(res[0] * 100):.2f}%\\t {(res[1] * 100):.2f}%\\t {'+' if res[1]>res[0] else ''}{((res[1]-res[0]) * 100):.2f}%\")"
   ],
   "metadata": {
    "collapsed": false,
    "pycharm": {
     "name": "#%%\n",
     "is_executing": true
    }
   }
  },
  {
   "cell_type": "code",
   "execution_count": null,
   "outputs": [],
   "source": [
    "# display results as a plot\n",
    "fig = plt.figure()\n",
    "ax = fig.add_axes([0,0,1,1])\n",
    "xs = list(map(lambda e: e[0], impact_evaluations))\n",
    "for_ok = list(map(lambda e: e[1][0]*100, impact_evaluations))\n",
    "for_smelly = list(map(lambda e: e[1][1]*100, impact_evaluations))\n",
    "ind = np.arange(len(xs))\n",
    "width = 0.4\n",
    "\n",
    "ax.barh(ind, for_ok, width, color=\"forestgreen\", label=\"Percentage for non-smelly\")\n",
    "for i, v in enumerate(for_ok):\n",
    "    ax.text((v + 1 if v<95 else 95) if v==v else 1, i + 0.1, f\"{int(v)}%\" if v==v else \"no prs\",  color=(\"green\" if v<95 else \"black\"))\n",
    "ax.barh(ind + width, for_smelly, width, color=\"red\", label=\"Percentage for smelly\")\n",
    "for i, v in enumerate(for_smelly):\n",
    "    ax.text((v + 1 if v<95 else 95) if v==v else 1, i + width + 0.1, f\"{int(v)}%\" if v==v else \"no prs\", color=(\"red\" if v<95 else \"black\"))\n",
    "ax.set(yticks=ind + width/2, yticklabels=xs, ylim=[2*width-1, len(xs)], xlim=[0, 100])\n",
    "ax.invert_yaxis()\n",
    "plt.legend(loc=\"upper center\", bbox_to_anchor=(0.5, -0.1))\n",
    "plt.title(f\"Percentage of pulls where at least one file was changed next by bug solving PR for {repo}\")\n",
    "plt.show()"
   ],
   "metadata": {
    "collapsed": false,
    "pycharm": {
     "name": "#%%\n",
     "is_executing": true
    }
   }
  },
  {
   "cell_type": "markdown",
   "source": [
    "## Metryki"
   ],
   "metadata": {
    "collapsed": false,
    "pycharm": {
     "name": "#%% md\n"
    }
   }
  }
 ],
 "metadata": {
  "kernelspec": {
   "display_name": "Python 3",
   "language": "python",
   "name": "python3"
  },
  "language_info": {
   "codemirror_mode": {
    "name": "ipython",
    "version": 2
   },
   "file_extension": ".py",
   "mimetype": "text/x-python",
   "name": "python",
   "nbconvert_exporter": "python",
   "pygments_lexer": "ipython2",
   "version": "2.7.6"
  }
 },
 "nbformat": 4,
 "nbformat_minor": 0
}