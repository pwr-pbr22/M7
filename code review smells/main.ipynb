{
 "cells": [
  {
   "cell_type": "code",
   "execution_count": 1,
   "outputs": [],
   "source": [
    "%matplotlib inline\n",
    "from evaluator import evaluate, calc_impact, create_functions_in_db\n",
    "from definitions import Repository\n",
    "import db\n",
    "import smells\n",
    "import matplotlib.pyplot as plt\n",
    "\n",
    "plt.rcParams[\"figure.figsize\"] = (10,3)\n",
    "\n",
    "if not db.prepare(\"postgresql://\"+(input(\"db username [postgres]\") or \"postgres\")+\":\"+input(\"db password\")+\"@\"+(input(\"db host [localhost]\") or \"localhost\")+\":\"+(input(\"db port [5432]\") or \"5432\")+\"/\"+input(\"db name\")):\n",
    "    print(\"Can't connect to db\")\n",
    "    exit()"
   ],
   "metadata": {
    "collapsed": false,
    "pycharm": {
     "name": "#%%\n"
    }
   }
  },
  {
   "cell_type": "markdown",
   "source": [
    "# Ewaluacja"
   ],
   "metadata": {
    "collapsed": false,
    "pycharm": {
     "name": "#%% md\n"
    }
   }
  },
  {
   "cell_type": "code",
   "execution_count": 2,
   "outputs": [],
   "source": [
    "repo = input(\"repository\")"
   ],
   "metadata": {
    "collapsed": false,
    "pycharm": {
     "name": "#%%\n"
    }
   }
  },
  {
   "cell_type": "markdown",
   "source": [
    "## Udział smelly prs wśród badanych prs"
   ],
   "metadata": {
    "collapsed": false,
    "pycharm": {
     "name": "#%% md\n"
    }
   }
  },
  {
   "cell_type": "code",
   "execution_count": 3,
   "outputs": [],
   "source": [
    "smells_evaluations = [\n",
    "    evaluate(repo, smells.lack_of_review),\n",
    "    evaluate(repo, smells.missing_description),\n",
    "    evaluate(repo, smells.large_changesets),\n",
    "    evaluate(repo, smells.sleeping_reviews),\n",
    "    evaluate(repo, smells.review_buddies),\n",
    "    evaluate(repo, smells.ping_pong),\n",
    "    evaluate(repo, smells.union,\n",
    "         [smells.lack_of_review,\n",
    "          smells.missing_description,\n",
    "          smells.large_changesets,\n",
    "          smells.sleeping_reviews,\n",
    "          smells.review_buddies,\n",
    "          smells.ping_pong]),\n",
    "    evaluate(repo, smells.intersection,\n",
    "         [smells.lack_of_review,\n",
    "          smells.missing_description,\n",
    "          smells.large_changesets,\n",
    "          smells.sleeping_reviews,\n",
    "          smells.review_buddies,\n",
    "          smells.ping_pong])\n",
    "]"
   ],
   "metadata": {
    "collapsed": false,
    "pycharm": {
     "name": "#%%\n"
    }
   }
  },
  {
   "cell_type": "code",
   "execution_count": 4,
   "outputs": [
    {
     "name": "stdout",
     "output_type": "stream",
     "text": [
      "Lack of code review           \t93.71%\n",
      "Missing PR description        \t24.04%\n",
      "Large changeset               \t6.07%\n",
      "Sleeping reviews              \t50.79%\n",
      "Review Buddies                \t0.00%\n",
      "Ping-pong reviews             \t0.00%\n",
      "At least one of:\n",
      "- lack_of_review              \n",
      "- missing_description         \n",
      "- large_changesets            \n",
      "- sleeping_reviews            \n",
      "- review_buddies              \n",
      "- ping_pong                   \t98.65%\n",
      "All of:\n",
      "- lack_of_review              \n",
      "- missing_description         \n",
      "- large_changesets            \n",
      "- sleeping_reviews            \n",
      "- review_buddies              \n",
      "- ping_pong                   \t0.00%\n"
     ]
    }
   ],
   "source": [
    "# display results as text\n",
    "for evaluation in smells_evaluations:\n",
    "    print(evaluation)"
   ],
   "metadata": {
    "collapsed": false,
    "pycharm": {
     "name": "#%%\n"
    }
   }
  },
  {
   "cell_type": "code",
   "execution_count": 14,
   "outputs": [
    {
     "data": {
      "text/plain": "<Figure size 720x216 with 1 Axes>",
      "image/png": "[encoded data removed]"
     },
     "metadata": {
      "needs_background": "light"
     },
     "output_type": "display_data"
    }
   ],
   "source": [
    "# display results as a plot\n",
    "fig = plt.figure()\n",
    "ax = fig.add_axes([0,0,1,1])\n",
    "xs = list(map(lambda e: e.evaluator_name.split(\"\\n\")[0], smells_evaluations))\n",
    "ys = list(map(lambda e: e.percentage*100, smells_evaluations))\n",
    "ax.barh(xs, 100, color=\"forestgreen\")\n",
    "ax.barh(xs, ys, color=\"red\")\n",
    "for i, v in enumerate(ys):\n",
    "    ax.text(v + 1 if v<95 else 95, i + 0.1, f\"{int(v)}%\", color=\"black\", fontweight=\"bold\")\n",
    "ax.invert_yaxis()\n",
    "plt.show()"
   ],
   "metadata": {
    "collapsed": false,
    "pycharm": {
     "name": "#%%\n"
    }
   }
  },
  {
   "cell_type": "markdown",
   "source": [
    "## Wpływ smelli na prawdopodobieństwo wprowadzenia błędu"
   ],
   "metadata": {
    "collapsed": false,
    "pycharm": {
     "name": "#%% md\n"
    }
   }
  },
  {
   "cell_type": "code",
   "execution_count": 6,
   "outputs": [],
   "source": [
    "dbsession = db.getSession()\n",
    "repo_obj: Repository = dbsession.query(Repository).filter(Repository.full_name == repo).first()\n",
    "\n",
    "if repo_obj is None:\n",
    "    print(\"Repository not found\")\n",
    "    exit()\n",
    "\n",
    "create_functions_in_db(dbsession)\n",
    "\n",
    "impact_evaluations = list(map(lambda pair: (pair[0], calc_impact(dbsession, repo_obj, pair[1])), [\n",
    "        (\"Lack of code review\", smells.lack_of_review),\n",
    "        (\"Missing PR description\", smells.missing_description),\n",
    "        (\"Large changeset\", smells.large_changesets),\n",
    "        (\"Sleeping reviews\", smells.sleeping_reviews),\n",
    "        (\"Review Buddies\", smells.review_buddies),\n",
    "        (\"Ping-pong reviews\", smells.ping_pong)\n",
    "\n",
    "    ]))"
   ],
   "metadata": {
    "collapsed": false,
    "pycharm": {
     "name": "#%%\n"
    }
   }
  },
  {
   "cell_type": "code",
   "execution_count": 7,
   "outputs": [
    {
     "name": "stdout",
     "output_type": "stream",
     "text": [
      "Prawdopodobieństwa, że dla przynajmniej jednego z plików zmodyfikowanych przez dany PR następna edycja zostanie dokonana przez bug solving PR:\n",
      "                              OK    \t SMELLY\t IMPACT\n",
      "Lack of code review           60.71%\t 58.99%\t -1.72%\n",
      "Missing PR description        60.36%\t 55.14%\t -5.21%\n",
      "Large changeset               57.66%\t 81.48%\t +23.83%\n",
      "Sleeping reviews              57.53%\t 60.62%\t +3.09%\n",
      "Review Buddies                59.10%\t nan%\t nan%\n",
      "Ping-pong reviews             59.10%\t nan%\t nan%\n"
     ]
    }
   ],
   "source": [
    "# display results as text\n",
    "print(\n",
    "    f\"Prawdopodobieństwa, że dla przynajmniej jednego z plików zmodyfikowanych \"\n",
    "    f\"przez dany PR następna edycja zostanie dokonana przez bug solving PR:\")\n",
    "print(f\"{''.ljust(30)}OK    \\t SMELLY\\t IMPACT\")\n",
    "\n",
    "for (name, res) in impact_evaluations:\n",
    "    print(f\"{name.ljust(30)}{(res[0] * 100):.2f}%\\t {(res[1] * 100):.2f}%\\t {'+' if res[1]>res[0] else ''}{((res[1]-res[0]) * 100):.2f}%\")"
   ],
   "metadata": {
    "collapsed": false,
    "pycharm": {
     "name": "#%%\n"
    }
   }
  },
  {
   "cell_type": "code",
   "execution_count": 11,
   "outputs": [
    {
     "data": {
      "text/plain": "<Figure size 720x216 with 1 Axes>",
      "image/png": "[encoded data removed]"
     },
     "metadata": {
      "needs_background": "light"
     },
     "output_type": "display_data"
    }
   ],
   "source": [
    "import numpy as np\n",
    "\n",
    "# display results as a plot\n",
    "fig = plt.figure()\n",
    "ax = fig.add_axes([0,0,1,1])\n",
    "xs = list(map(lambda e: e[0], impact_evaluations))\n",
    "for_ok = list(map(lambda e: e[1][0]*100, impact_evaluations))\n",
    "for_smelly = list(map(lambda e: e[1][1]*100, impact_evaluations))\n",
    "ind = np.arange(len(xs))\n",
    "width = 0.4\n",
    "\n",
    "ax.barh(ind, for_ok, width, color=\"forestgreen\")\n",
    "for i, v in enumerate(for_ok):\n",
    "    ax.text((v + 1 if v<95 else 95) if v==v else 1, i + 0.1, f\"{int(v)}%\" if v==v else \"no prs\", color=\"black\")\n",
    "ax.barh(ind + width, for_smelly, width, color=\"red\")\n",
    "for i, v in enumerate(for_smelly):\n",
    "    ax.text((v + 1 if v<95 else 95) if v==v else 1, i + width + 0.1, f\"{int(v)}%\" if v==v else \"no prs\", color=\"black\")\n",
    "ax.set(yticks=ind + width/2, yticklabels=xs, ylim=[2*width-1, len(xs)], xlim=[0, 100])\n",
    "ax.invert_yaxis()\n",
    "plt.show()"
   ],
   "metadata": {
    "collapsed": false,
    "pycharm": {
     "name": "#%%\n"
    }
   }
  }
 ],
 "metadata": {
  "kernelspec": {
   "display_name": "Python 3",
   "language": "python",
   "name": "python3"
  },
  "language_info": {
   "codemirror_mode": {
    "name": "ipython",
    "version": 2
   },
   "file_extension": ".py",
   "mimetype": "text/x-python",
   "name": "python",
   "nbconvert_exporter": "python",
   "pygments_lexer": "ipython2",
   "version": "2.7.6"
  }
 },
 "nbformat": 4,
 "nbformat_minor": 0
}