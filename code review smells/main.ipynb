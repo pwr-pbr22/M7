{
 "cells": [
  {
   "cell_type": "markdown",
   "source": [
    "# Inicjalizacja"
   ],
   "metadata": {
    "collapsed": false,
    "pycharm": {
     "name": "#%% md\n"
    }
   }
  },
  {
   "cell_type": "code",
   "execution_count": 1,
   "outputs": [],
   "source": [
    "import datetime\n",
    "%matplotlib inline\n",
    "\n",
    "from evaluator import evaluate, calc_impact, create_functions_in_db\n",
    "from definitions import Repository\n",
    "import db\n",
    "import smells\n",
    "import metrics\n",
    "import matplotlib.pyplot as plt\n",
    "import numpy as np\n",
    "\n",
    "#plots size in inches\n",
    "plt.rcParams[\"figure.figsize\"] = (10,5)"
   ],
   "metadata": {
    "collapsed": false,
    "pycharm": {
     "name": "#%%\n"
    }
   }
  },
  {
   "cell_type": "code",
   "execution_count": 2,
   "outputs": [],
   "source": [
    "# connect with db\n",
    "db.prepare(\"postgresql://\"+(input(\"db username [postgres]\") or \"postgres\")+\":\"+input(\"db password\")+\"@\"+(input(\"db host [localhost]\") or \"localhost\")+\":\"+(input(\"db port [5432]\") or \"5432\")+\"/\"+input(\"db name\"))\n",
    "dbsession = db.get_session()\n",
    "create_functions_in_db(dbsession)"
   ],
   "metadata": {
    "collapsed": false,
    "pycharm": {
     "name": "#%%\n"
    }
   }
  },
  {
   "cell_type": "markdown",
   "source": [
    "# Ewaluacja"
   ],
   "metadata": {
    "collapsed": false,
    "pycharm": {
     "name": "#%% md\n"
    }
   }
  },
  {
   "cell_type": "code",
   "execution_count": 3,
   "outputs": [],
   "source": [
    "# select repository\n",
    "repo = input(\"repository\")\n",
    "\n",
    "if dbsession.query(Repository).filter(Repository.full_name == repo).first() is None:\n",
    "    raise LookupError(\"Repository does not exist\")"
   ],
   "metadata": {
    "collapsed": false,
    "pycharm": {
     "name": "#%%\n"
    }
   }
  },
  {
   "cell_type": "markdown",
   "source": [
    "## Udział smelly prs wśród badanych prs (reprodukcja)"
   ],
   "metadata": {
    "collapsed": false,
    "pycharm": {
     "name": "#%% md\n"
    }
   }
  },
  {
   "cell_type": "code",
   "execution_count": 4,
   "outputs": [],
   "source": [
    "# evaluate for smells\n",
    "smells_evaluations = [\n",
    "    evaluate(repo, smells.lack_of_review),\n",
    "    evaluate(repo, smells.missing_description),\n",
    "    evaluate(repo, smells.large_changesets),\n",
    "    evaluate(repo, smells.sleeping_reviews),\n",
    "    evaluate(repo, smells.review_buddies),\n",
    "    evaluate(repo, smells.ping_pong),\n",
    "    evaluate(repo, smells.union,\n",
    "         [smells.lack_of_review,\n",
    "          smells.missing_description,\n",
    "          smells.large_changesets,\n",
    "          smells.sleeping_reviews,\n",
    "          smells.review_buddies,\n",
    "          smells.ping_pong]),\n",
    "    evaluate(repo, smells.intersection,\n",
    "         [smells.lack_of_review,\n",
    "          smells.missing_description,\n",
    "          smells.large_changesets,\n",
    "          smells.sleeping_reviews,\n",
    "          smells.review_buddies,\n",
    "          smells.ping_pong])\n",
    "]"
   ],
   "metadata": {
    "collapsed": false,
    "pycharm": {
     "name": "#%%\n"
    }
   }
  },
  {
   "cell_type": "code",
   "execution_count": 5,
   "outputs": [
    {
     "name": "stdout",
     "output_type": "stream",
     "text": [
      "Lack of code review           \t93.71%\n",
      "Missing PR description        \t24.04%\n",
      "Large changeset               \t6.07%\n",
      "Sleeping reviews              \t50.79%\n",
      "Review Buddies                \t0.00%\n",
      "Ping-pong reviews             \t0.00%\n",
      "At least one of:\n",
      "- lack_of_review              \n",
      "- missing_description         \n",
      "- large_changesets            \n",
      "- sleeping_reviews            \n",
      "- review_buddies              \n",
      "- ping_pong                   \t98.65%\n",
      "All of:\n",
      "- lack_of_review              \n",
      "- missing_description         \n",
      "- large_changesets            \n",
      "- sleeping_reviews            \n",
      "- review_buddies              \n",
      "- ping_pong                   \t0.00%\n"
     ]
    }
   ],
   "source": [
    "# display results as a text\n",
    "for evaluation in smells_evaluations:\n",
    "    print(evaluation)"
   ],
   "metadata": {
    "collapsed": false,
    "pycharm": {
     "name": "#%%\n"
    }
   }
  },
  {
   "cell_type": "code",
   "execution_count": 6,
   "outputs": [
    {
     "data": {
      "text/plain": "<Figure size 720x360 with 1 Axes>",
      "image/png": "[encoded data removed]"
     },
     "metadata": {
      "needs_background": "light"
     },
     "output_type": "display_data"
    }
   ],
   "source": [
    "# display results as a plot\n",
    "fig = plt.figure()\n",
    "ax = fig.add_axes([0,0,1,1])\n",
    "xs = list(map(lambda e: e.evaluator_name.split(\"\\n\")[0], smells_evaluations))\n",
    "ys = list(map(lambda e: e.percentage*100, smells_evaluations))\n",
    "ax.barh(xs, 100, color=\"forestgreen\", label=\"non-smelly prs\")\n",
    "ax.barh(xs, ys, color=\"red\", label=\"smelly prs\")\n",
    "for i, v in enumerate(ys):\n",
    "    ax.text(101, i + 0.1, f\"{int(v)}%\", color=\"red\")\n",
    "    ax.text(105, i + 0.1, f\"{100-int(v)}%\", color=\"green\")\n",
    "ax.invert_yaxis()\n",
    "plt.legend(loc=\"upper center\", bbox_to_anchor=(0.5, -0.1))\n",
    "plt.title(f\"Percentage of smelly and non-smelly prs in {repo}\")\n",
    "plt.margins(x=0.1)\n",
    "plt.show()"
   ],
   "metadata": {
    "collapsed": false,
    "pycharm": {
     "name": "#%%\n"
    }
   }
  },
  {
   "cell_type": "markdown",
   "source": [
    "## Wpływ smelli na prawdopodobieństwo wprowadzenia błędu"
   ],
   "metadata": {
    "collapsed": false,
    "pycharm": {
     "name": "#%% md\n"
    }
   }
  },
  {
   "cell_type": "code",
   "execution_count": 7,
   "outputs": [],
   "source": [
    "# evaluate for smells impact\n",
    "impact_evaluations = list(map(lambda pair: (pair[0], calc_impact(session = dbsession,\n",
    "                                                                 repo = dbsession.query(Repository).filter(Repository.full_name == repo).first(),\n",
    "                                                                 evaluator = pair[1],\n",
    "                                                                 evaluator_args=None)), [\n",
    "    (\"Lack of code review\", smells.lack_of_review),\n",
    "    (\"Missing PR description\", smells.missing_description),\n",
    "    (\"Large changeset\", smells.large_changesets),\n",
    "    (\"Sleeping reviews\", smells.sleeping_reviews),\n",
    "    (\"Review Buddies\", smells.review_buddies),\n",
    "    (\"Ping-pong reviews\", smells.ping_pong)\n",
    "]))"
   ],
   "metadata": {
    "collapsed": false,
    "pycharm": {
     "name": "#%%\n"
    }
   }
  },
  {
   "cell_type": "code",
   "execution_count": 8,
   "outputs": [
    {
     "name": "stdout",
     "output_type": "stream",
     "text": [
      "Percentage of pulls where at least one file was changed next by bug solving PR:\n",
      "                              OK    \t SMELLY\t IMPACT\n",
      "Lack of code review           60.71%\t 58.99%\t -1.72%\n",
      "Missing PR description        60.36%\t 55.14%\t -5.21%\n",
      "Large changeset               57.66%\t 81.48%\t +23.83%\n",
      "Sleeping reviews              57.53%\t 60.62%\t +3.09%\n",
      "Review Buddies                59.10%\t nan%\t nan%\n",
      "Ping-pong reviews             59.10%\t nan%\t nan%\n"
     ]
    }
   ],
   "source": [
    "# display results as text\n",
    "print(\n",
    "    f\"Percentage of pulls where at least one file was changed next by bug solving PR:\")\n",
    "print(f\"{''.ljust(30)}OK    \\t SMELLY\\t IMPACT\")\n",
    "\n",
    "for (name, res) in impact_evaluations:\n",
    "    print(f\"{name.ljust(30)}{(res[0] * 100):.2f}%\\t {(res[1] * 100):.2f}%\\t {'+' if res[1]>res[0] else ''}{((res[1]-res[0]) * 100):.2f}%\")"
   ],
   "metadata": {
    "collapsed": false,
    "pycharm": {
     "name": "#%%\n"
    }
   }
  },
  {
   "cell_type": "code",
   "execution_count": 9,
   "outputs": [
    {
     "data": {
      "text/plain": "<Figure size 720x360 with 1 Axes>",
      "image/png": "[encoded data removed]"
     },
     "metadata": {
      "needs_background": "light"
     },
     "output_type": "display_data"
    }
   ],
   "source": [
    "# display results as a plot\n",
    "fig = plt.figure()\n",
    "ax = fig.add_axes([0,0,1,1])\n",
    "xs = list(map(lambda e: e[0], impact_evaluations))\n",
    "for_ok = list(map(lambda e: e[1][0]*100, impact_evaluations))\n",
    "for_smelly = list(map(lambda e: e[1][1]*100, impact_evaluations))\n",
    "ind = np.arange(len(xs))\n",
    "width = 0.4\n",
    "\n",
    "ax.barh(ind, for_ok, width, color=\"forestgreen\", label=\"Percentage for non-smelly\")\n",
    "for i, v in enumerate(for_ok):\n",
    "    ax.text((v + 1 if v<95 else 95) if v==v else 1, i + 0.1, f\"{int(v)}%\" if v==v else \"no prs\",  color=(\"green\" if v<95 else \"black\"))\n",
    "ax.barh(ind + width, for_smelly, width, color=\"red\", label=\"Percentage for smelly\")\n",
    "for i, v in enumerate(for_smelly):\n",
    "    ax.text((v + 1 if v<95 else 95) if v==v else 1, i + width + 0.1, f\"{int(v)}%\" if v==v else \"no prs\", color=(\"red\" if v<95 else \"black\"))\n",
    "ax.set(yticks=ind + width/2, yticklabels=xs, ylim=[2*width-1, len(xs)], xlim=[0, 100])\n",
    "ax.invert_yaxis()\n",
    "plt.legend(loc=\"upper center\", bbox_to_anchor=(0.5, -0.1))\n",
    "plt.title(f\"Percentage of pulls where at least one file was changed next by bug solving PR for {repo}\")\n",
    "plt.show()"
   ],
   "metadata": {
    "collapsed": false,
    "pycharm": {
     "name": "#%%\n"
    }
   }
  },
  {
   "cell_type": "markdown",
   "source": [
    "## Metryki"
   ],
   "metadata": {
    "collapsed": false,
    "pycharm": {
     "name": "#%% md\n"
    }
   }
  },
  {
   "cell_type": "code",
   "execution_count": 10,
   "outputs": [
    {
     "data": {
      "text/plain": "<Figure size 720x360 with 1 Axes>",
      "image/png": "[encoded data removed]"
     },
     "metadata": {
      "needs_background": "light"
     },
     "output_type": "display_data"
    },
    {
     "data": {
      "text/plain": "<Figure size 1440x720 with 0 Axes>"
     },
     "metadata": {},
     "output_type": "display_data"
    },
    {
     "name": "stdout",
     "output_type": "stream",
     "text": [
      "[348.0, 19632.0, 0.0, 34.0, 0.0, 5.0, 166.0, 64.0, 263.0, 0.0, 121.0, 159.0, 20.0, 919.0, 2.0, 122.0, 5.0, 4350.0, 6.0, 0.0, 0.0, 572.0, 36.0, 79.0, 167.0, 47.0, 97.0, 1417.0, 1142.0, 20.0, 713.0, 12171.0, 192.0, 2409.0, 1.0, 2.0, 9.0, 264.0, 0.0, 12061.0, 20.0, 0.0, 14532.0, 337.0, 549.0, 10307.0, 752.0, 133.0, 4458.0, 559.0, 4555.0, 1812.0, 107257.0, 7711.0, 9536.0, 2.0, 4734.0, 14394.0, 1222.0, 4385.0, 7854.0, 4587.0, 358.0, 167.0, 120.0, 853.0, 30871.0, 3257.0, 343.0, 5733.0, 793.0, 6.0, 187.0, 9047.0, 1474.0, 1342.0, 572.0, 346.0, 27623.0, 1.0, 26784.0, 25824.0, 8068.0, 13720.0, 80.0, 4038.0, 1.0, 82.0, 9982.0, 1.0, 135.0, 815.0, 13233.0, 4515.0, 3710.0, 2277.0, 3525.0, 17.0, 0.0, 21733.0, 304383.0, 249.0, 4267.0, 1.0, 1217.0, 61.0, 3238.0, 9672.0, 1.0, 5.0, 33.0, 14.0, 6064.0, 2909.0, 2876.0, 11279.0, 26188.0, 419.0, 69059.0, 7083.0, 4876.0, 18479.0, 519.0, 56357.0, 272.0, 3358.0, 713.0, 10538.0, 19657.0, 19402.0, 2180.0, 3575.0, 64.0, 9067.0, 5511.0, 36164.0, 6950.0, 4670.0, 3566.0, 973.0, 908.0, 1496.0, 198.0, 19949.0, 5251.0, 5874.0, 9689.0, 16224.0, 39880.0, 925799.0, 1229.0, 330140.0, 744.0, 10.0, 492.0, 4721.0, 4379.0, 187.0, 3358.0, 28669.0, 7490.0, 2116.0, 1352.0, 9323.0, 1322.0, 4.0, 115207.0, 382.0, 92.0, 1613.0, 13133.0, 96.0, 12137.0, 438.0, 9034.0, 11548.0, 611.0, 187622.0, 765.0, 13196.0, 58494.0, 14631.0, 22288.0, 974.0, 6609.0, 1828.0, 41.0, 40738.0, 22655.0, 6300.0, 5240.0, 71.0, 2656.0, 30.0, 6879.0, 23034.0, 1321.0, 1118.0, 281.0, 20634.0, 11077.0, 713362.0, 6249.0, 6079.0, 483.0, 243.0, 7677.0, 3689.0, 9683.0, 11582.0, 30025.0, 10068.0, 549407.0, 492.0, 209.0, 33459.0, 3771.0, 2317.0, 355.0, 17516.0, 2008.0, 3122.0, 3332.0, 46830.0, 13589.0, 10612.0, 309.0, 2050.0, 334.0, 192.0, 493403.0, 394065.0, 450860.0, 2263.0, 642.0, 27810.0, 2592.0, 3584.0, 1612.0, 478.0, 38374.0, 322309.0, 6335.0, 10302.0, 313776.0, 1985.0, 47286.0, 36827.0, 33339.0, 1667.0, 16556.0, 2754.0, 97013.0, 1405.0, 2.0, 5442.0, 6048.0, 729.0, 7991.0, 909.0, 600.0, 204150.0, 20169.0, 15307.0, 186236.0, 74369.0, 5594.0, 1701.0, 90210.0, 17573.0, 2093.0, 79.0, 144066.0, 533.0, 496.0, 7107.0, 60690.0, 7691.0, 6380.0, 105639.0, 5711.0, 117.0, 121245.0, 984.0, 92.0, 29316.0, 109904.0, 101206.0, 40003.0, 31706.0, 9131.0, 71065.0, 18296.0, 104.0, 54684.0, 70822.0, 51.0, 8170.0, 110496.0, 59447.0, 7842.0, 218.0, 55463.0, 14159.0, 4748.0, 55911.0, 28204.0, 62.0, 346.0, 5207.0, 49766.0, 542.0, 37292.0, 183.0, 29.0, 9307.0, 5552.0, 342.0, 2593.0, 3321.0, 6.0, 0.0, 21712.0, 8272.0, 10070.0, 7881.0, 17517.0, 23442.0, 12370.0, 7627.0, 1968.0, 960.0, 1766.0, 660.0, 8638.0, 1.0, 9.0, 689.0, 51.0, 94.0, 2.0, 52.0, 85210.0, 14.0, 16.0, 3603.0, 36.0, 2419.0, 1045.0, 786.0, 12347.0, 19837.0, 91272.0, 6.0, 3.0, 12979.0, 6156.0, 1902.0, 52.0, 1506.0, 4098.0, 283.0, 12990.0, 139.0, 9.0, 1.0, 9874.0, 108.0, 1506.0, 6.0, 464.0, 52.0, 231351.0, 20261.0, 54811.0, 9824.0, 31393.0, 148.0, 1551.0, 297115.0, 7327.0, 30091.0, 9962.0, 1.0, 0.0, 5.0, 32.0, 1.0, 0.0, 7.0, 15.0, 326.0, 163.0, 5600.0, 12466.0, 8246.0, 2537.0, 6848.0, 26120.0, 13798.0, 207.0, 5218.0, 21264.0, 22048.0, 1943.0, 180.0, 3875.0, 30412.0, 84.0, 150765.0, 118463.0, 1009.0, 7583.0, 535525.0, 9559.0, 55727.0, 14662.0, 1356.0, 237.0, 21567.0, 11747.0, 30197.0, 21944.0, 3663.0, 132.0, 16029.0, 871.0, 70.0, 0.0, 0.0, 13491.0, 131687.0, 48935.0, 9.0, 3104.0, 2858.0, 1673.0, 1729.0, 5780.0, 4268.0, 781.0, 30472.0, 13427.0, 16.0, 1213.0]\n"
     ]
    }
   ],
   "source": [
    "from sqlalchemy import column, select\n",
    "from evaluator import get_considered_prs\n",
    "\n",
    "repo_obj = dbsession.query(Repository).filter(Repository.full_name == repo).first()\n",
    "prs = get_considered_prs(session = dbsession, repo = repo_obj)\n",
    "\n",
    "fig = plt.figure()\n",
    "ax = fig.add_axes([0,0,1,1])\n",
    "ax.boxplot([\n",
    "    metrics.review_window_metric(prs, repo_obj).to_list(dbsession),\n",
    "    metrics.review_window_per_line_metric(prs, repo_obj).to_list(dbsession)],\n",
    "    showfliers=False, notch=True, vert=False)\n",
    "plt.figure(figsize=(20,10))\n",
    "plt.show()\n",
    "\n",
    "#print(metrics.review_window_metric(prs,repo_obj).to_list(dbsession))"
   ],
   "metadata": {
    "collapsed": false,
    "pycharm": {
     "name": "#%%\n"
    }
   }
  },
  {
   "cell_type": "code",
   "execution_count": null,
   "outputs": [],
   "source": [
    "# display results as a text\n",
    "for evaluation in smells_evaluations:\n",
    "    print(evaluation)"
   ],
   "metadata": {
    "collapsed": false,
    "pycharm": {
     "name": "#%%\n"
    }
   }
  },
  {
   "cell_type": "code",
   "execution_count": null,
   "outputs": [],
   "source": [
    "# display results as a plot\n",
    "fig = plt.figure()\n",
    "ax = fig.add_axes([0,0,1,1])\n",
    "xs = list(map(lambda e: e.evaluator_name.split(\"\\n\")[0], smells_evaluations))\n",
    "ys = list(map(lambda e: e.percentage*100, smells_evaluations))\n",
    "ax.barh(xs, 100, color=\"forestgreen\", label=\"non-smelly prs\")\n",
    "ax.barh(xs, ys, color=\"red\", label=\"smelly prs\")\n",
    "for i, v in enumerate(ys):\n",
    "    ax.text(101, i + 0.1, f\"{int(v)}%\", color=\"red\")\n",
    "    ax.text(105, i + 0.1, f\"{100-int(v)}%\", color=\"green\")\n",
    "ax.invert_yaxis()\n",
    "plt.legend(loc=\"upper center\", bbox_to_anchor=(0.5, -0.1))\n",
    "plt.title(f\"Percentage of smelly and non-smelly prs in {repo}\")\n",
    "plt.margins(x=0.1)\n",
    "plt.show()"
   ],
   "metadata": {
    "collapsed": false,
    "pycharm": {
     "name": "#%%\n"
    }
   }
  },
  {
   "cell_type": "markdown",
   "source": [
    "## Wpływ smelli na prawdopodobieństwo wprowadzenia błędu"
   ],
   "metadata": {
    "collapsed": false,
    "pycharm": {
     "name": "#%% md\n"
    }
   }
  },
  {
   "cell_type": "code",
   "execution_count": 7,
   "outputs": [],
   "source": [
    "# evaluate for smells impact\n",
    "impact_evaluations = list(map(lambda pair: (pair[0], calc_impact(session = dbsession,\n",
    "                                                                 repo = dbsession.query(Repository).filter(Repository.full_name == repo).first(),\n",
    "                                                                 evaluator = pair[1],\n",
    "                                                                 evaluator_args=None)), [\n",
    "    (\"Lack of code review\", smells.lack_of_review),\n",
    "    (\"Missing PR description\", smells.missing_description),\n",
    "    (\"Large changeset\", smells.large_changesets),\n",
    "    (\"Sleeping reviews\", smells.sleeping_reviews),\n",
    "    (\"Review Buddies\", smells.review_buddies),\n",
    "    (\"Ping-pong reviews\", smells.ping_pong)\n",
    "]))"
   ],
   "metadata": {
    "collapsed": false,
    "pycharm": {
     "name": "#%%\n"
    }
   }
  },
  {
   "cell_type": "code",
   "execution_count": null,
   "outputs": [],
   "source": [
    "# display results as text\n",
    "print(\n",
    "    f\"Percentage of pulls where at least one file was changed next by bug solving PR:\")\n",
    "print(f\"{''.ljust(30)}OK    \\t SMELLY\\t IMPACT\")\n",
    "\n",
    "for (name, res) in impact_evaluations:\n",
    "    print(f\"{name.ljust(30)}{(res[0] * 100):.2f}%\\t {(res[1] * 100):.2f}%\\t {'+' if res[1]>res[0] else ''}{((res[1]-res[0]) * 100):.2f}%\")"
   ],
   "metadata": {
    "collapsed": false,
    "pycharm": {
     "name": "#%%\n"
    }
   }
  },
  {
   "cell_type": "code",
   "execution_count": null,
   "outputs": [],
   "source": [
    "# display results as a plot\n",
    "fig = plt.figure()\n",
    "ax = fig.add_axes([0,0,1,1])\n",
    "xs = list(map(lambda e: e[0], impact_evaluations))\n",
    "for_ok = list(map(lambda e: e[1][0]*100, impact_evaluations))\n",
    "for_smelly = list(map(lambda e: e[1][1]*100, impact_evaluations))\n",
    "ind = np.arange(len(xs))\n",
    "width = 0.4\n",
    "\n",
    "ax.barh(ind, for_ok, width, color=\"forestgreen\", label=\"Percentage for non-smelly\")\n",
    "for i, v in enumerate(for_ok):\n",
    "    ax.text((v + 1 if v<95 else 95) if v==v else 1, i + 0.1, f\"{int(v)}%\" if v==v else \"no prs\",  color=(\"green\" if v<95 else \"black\"))\n",
    "ax.barh(ind + width, for_smelly, width, color=\"red\", label=\"Percentage for smelly\")\n",
    "for i, v in enumerate(for_smelly):\n",
    "    ax.text((v + 1 if v<95 else 95) if v==v else 1, i + width + 0.1, f\"{int(v)}%\" if v==v else \"no prs\", color=(\"red\" if v<95 else \"black\"))\n",
    "ax.set(yticks=ind + width/2, yticklabels=xs, ylim=[2*width-1, len(xs)], xlim=[0, 100])\n",
    "ax.invert_yaxis()\n",
    "plt.legend(loc=\"upper center\", bbox_to_anchor=(0.5, -0.1))\n",
    "plt.title(f\"Percentage of pulls where at least one file was changed next by bug solving PR for {repo}\")\n",
    "plt.show()"
   ],
   "metadata": {
    "collapsed": false,
    "pycharm": {
     "name": "#%%\n"
    }
   }
  },
  {
   "cell_type": "markdown",
   "source": [
    "## Metryki"
   ],
   "metadata": {
    "collapsed": false,
    "pycharm": {
     "name": "#%% md\n"
    }
   }
  },
  {
   "cell_type": "code",
   "execution_count": null,
   "outputs": [],
   "source": [
    "from sqlalchemy import column, select\n",
    "from evaluator import get_considered_prs\n",
    "\n",
    "repo_obj = dbsession.query(Repository).filter(Repository.full_name == repo).first()\n",
    "prs = get_considered_prs(session = dbsession, repo = repo_obj)\n",
    "\n",
    "def get_metric_res_as_list(metric: callable):\n",
    "    result = metric(prs, repo_obj)\n",
    "    return list(map(lambda r: float(r[0]),dbsession.execute(select(column(result.metrics_names[0])).select_from(result.evaluated.subquery())).all()))\n",
    "\n",
    "fig = plt.figure()\n",
    "ax = fig.add_axes([0,0,1,1])\n",
    "ax.boxplot([get_metric_res_as_list(metrics.review_window_metric),get_metric_res_as_list(metrics.review_window_per_line_metric)], showfliers=False, notch=True, vert=False)\n",
    "plt.figure(figsize=(20,10))\n",
    "plt.show()"
   ],
   "metadata": {
    "collapsed": false,
    "pycharm": {
     "name": "#%%\n"
    }
   }
  }
 ],
 "metadata": {
  "kernelspec": {
   "display_name": "Python 3",
   "language": "python",
   "name": "python3"
  },
  "language_info": {
   "codemirror_mode": {
    "name": "ipython",
    "version": 2
   },
   "file_extension": ".py",
   "mimetype": "text/x-python",
   "name": "python",
   "nbconvert_exporter": "python",
   "pygments_lexer": "ipython2",
   "version": "2.7.6"
  }
 },
 "nbformat": 4,
 "nbformat_minor": 0
}