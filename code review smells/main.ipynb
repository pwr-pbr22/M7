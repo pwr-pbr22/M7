{
 "cells": [
  {
   "cell_type": "code",
   "execution_count": 1,
   "outputs": [],
   "source": [
    "from evaluator import evaluate, calc_impact, create_functions_in_db\n",
    "from definitions import Repository\n",
    "import db\n",
    "import smells\n",
    "\n",
    "if not db.prepare(input(\"connection string\")):\n",
    "    print(\"Can't connect to db\")"
   ],
   "metadata": {
    "collapsed": false,
    "pycharm": {
     "name": "#%%\n"
    }
   }
  },
  {
   "cell_type": "markdown",
   "source": [
    "# Ewaluacja"
   ],
   "metadata": {
    "collapsed": false,
    "pycharm": {
     "name": "#%% md\n"
    }
   }
  },
  {
   "cell_type": "code",
   "execution_count": 2,
   "outputs": [],
   "source": [
    "repo = input(\"repository\")"
   ],
   "metadata": {
    "collapsed": false,
    "pycharm": {
     "name": "#%%\n"
    }
   }
  },
  {
   "cell_type": "markdown",
   "source": [
    "## Udział smelly prs wśród badanych prs"
   ],
   "metadata": {
    "collapsed": false,
    "pycharm": {
     "name": "#%% md\n"
    }
   }
  },
  {
   "cell_type": "code",
   "execution_count": 3,
   "outputs": [
    {
     "name": "stdout",
     "output_type": "stream",
     "text": [
      "Lack of code review           \t93.71%\n",
      "Missing PR description        \t24.04%\n",
      "Large changeset               \t6.07%\n",
      "Sleeping reviews              \t50.79%\n",
      "Review Buddies                \t0.00%\n",
      "Ping-pong reviews             \t0.00%\n",
      "At least one of:\n",
      "- lack_of_review              \n",
      "- missing_description         \n",
      "- large_changesets            \n",
      "- sleeping_reviews            \n",
      "- review_buddies              \n",
      "- ping_pong                   \t98.65%\n",
      "All of:\n",
      "- lack_of_review              \n",
      "- missing_description         \n",
      "- large_changesets            \n",
      "- sleeping_reviews            \n",
      "- review_buddies              \n",
      "- ping_pong                   \t0.00%\n"
     ]
    }
   ],
   "source": [
    "print(evaluate(repo, smells.lack_of_review))\n",
    "print(evaluate(repo, smells.missing_description))\n",
    "print(evaluate(repo, smells.large_changesets))\n",
    "print(evaluate(repo, smells.sleeping_reviews))\n",
    "print(evaluate(repo, smells.review_buddies))\n",
    "print(evaluate(repo, smells.ping_pong))\n",
    "print(evaluate(repo, smells.union,\n",
    "         [smells.lack_of_review,\n",
    "          smells.missing_description,\n",
    "          smells.large_changesets,\n",
    "          smells.sleeping_reviews,\n",
    "          smells.review_buddies,\n",
    "          smells.ping_pong]))\n",
    "print(evaluate(repo, smells.intersection,\n",
    "         [smells.lack_of_review,\n",
    "          smells.missing_description,\n",
    "          smells.large_changesets,\n",
    "          smells.sleeping_reviews,\n",
    "          smells.review_buddies,\n",
    "          smells.ping_pong]))"
   ],
   "metadata": {
    "collapsed": false,
    "pycharm": {
     "name": "#%%\n"
    }
   }
  },
  {
   "cell_type": "markdown",
   "source": [
    "## Wpływ smelli na prawdopodobieństwo wprowadzenia błędu"
   ],
   "metadata": {
    "collapsed": false,
    "pycharm": {
     "name": "#%% md\n"
    }
   }
  },
  {
   "cell_type": "code",
   "execution_count": 4,
   "outputs": [
    {
     "name": "stdout",
     "output_type": "stream",
     "text": [
      "\n",
      "Prawdopodobieństwa, że dla przynajmniej jednego z plików zmodyfikowanych przez dany PR następna edycja zostanie dokonana przez bug solving PR:\n",
      "                              OK    \t SMELLY\t IMPACT\n",
      "Lack of code review           60.71%\t 58.99%\t -1.72%\n",
      "Missing PR description        60.36%\t 55.14%\t -5.21%\n",
      "Large changeset               57.66%\t 81.48%\t +23.83%\n",
      "Sleeping reviews              57.53%\t 60.62%\t +3.09%\n",
      "Review Buddies                59.10%\t nan%\t nan%\n",
      "Ping-pong reviews             59.10%\t nan%\t nan%\n"
     ]
    }
   ],
   "source": [
    "dbsession = db.getSession()\n",
    "repo_obj: Repository = dbsession.query(Repository).filter(Repository.full_name == repo).first()\n",
    "\n",
    "if repo_obj is not None:\n",
    "    create_functions_in_db(dbsession)\n",
    "    print()\n",
    "    print(\n",
    "        f\"Prawdopodobieństwa, że dla przynajmniej jednego z plików zmodyfikowanych \"\n",
    "        f\"przez dany PR następna edycja zostanie dokonana przez bug solving PR:\")\n",
    "    print(f\"{''.ljust(30)}OK    \\t SMELLY\\t IMPACT\")\n",
    "\n",
    "    for (name, evaluator) in [\n",
    "        (\"Lack of code review\", smells.lack_of_review),\n",
    "        (\"Missing PR description\", smells.missing_description),\n",
    "        (\"Large changeset\", smells.large_changesets),\n",
    "        (\"Sleeping reviews\", smells.sleeping_reviews),\n",
    "        (\"Review Buddies\", smells.review_buddies),\n",
    "        (\"Ping-pong reviews\", smells.ping_pong)\n",
    "\n",
    "    ]:\n",
    "        res = calc_impact(dbsession, repo_obj, evaluator)\n",
    "        print(f\"{name.ljust(30)}{(res[0] * 100):.2f}%\\t {(res[1] * 100):.2f}%\\t {'+' if res[1]>res[0] else ''}{((res[1]-res[0]) * 100):.2f}%\")"
   ],
   "metadata": {
    "collapsed": false,
    "pycharm": {
     "name": "#%%\n"
    }
   }
  }
 ],
 "metadata": {
  "kernelspec": {
   "display_name": "Python 3",
   "language": "python",
   "name": "python3"
  },
  "language_info": {
   "codemirror_mode": {
    "name": "ipython",
    "version": 2
   },
   "file_extension": ".py",
   "mimetype": "text/x-python",
   "name": "python",
   "nbconvert_exporter": "python",
   "pygments_lexer": "ipython2",
   "version": "2.7.6"
  }
 },
 "nbformat": 4,
 "nbformat_minor": 0
}